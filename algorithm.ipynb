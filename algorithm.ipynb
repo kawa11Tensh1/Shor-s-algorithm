{
 "cells": [
  {
   "cell_type": "markdown",
   "id": "fe69c9c3",
   "metadata": {},
   "source": [
    "# Реализация алгоритма Шора"
   ]
  },
  {
   "cell_type": "code",
   "execution_count": 2,
   "id": "f74ac6ba",
   "metadata": {},
   "outputs": [],
   "source": [
    "from qiskit.circuit.library import QFT\n",
    "from qiskit import QuantumCircuit\n",
    "from qiskit import Aer, execute\n",
    "from PIL import Image\n",
    "from qiskit.visualization import plot_histogram\n",
    "import matplotlib.pyplot as plt\n",
    "from math import gcd"
   ]
  },
  {
   "cell_type": "markdown",
   "id": "77debee4",
   "metadata": {},
   "source": [
    "# 1. Инициализация кубитов"
   ]
  },
  {
   "cell_type": "code",
   "execution_count": 3,
   "id": "36b2ced9",
   "metadata": {},
   "outputs": [],
   "source": [
    "def initialize_qubits(circuit, n, m):\n",
    "    # Apply Hadamard gates to first n qubits\n",
    "    circuit.h(range(n))\n",
    "    \n",
    "    # Apply X gate to last qubit\n",
    "    circuit.x(n+m-1)"
   ]
  },
  {
   "cell_type": "markdown",
   "id": "146a9342",
   "metadata": {},
   "source": [
    "# 2. Модульное возведение в степень"
   ]
  },
  {
   "cell_type": "code",
   "execution_count": 4,
   "id": "337e4f52",
   "metadata": {},
   "outputs": [],
   "source": [
    "def c_amod15(a, power):\n",
    "    # Create quantum circuit for controlled U gate\n",
    "    if a not in [2,4,7,8,11,13]:\n",
    "        raise ValueError(\"'a' must be 2,4,7,8,11 or 13\")\n",
    "    U = QuantumCircuit(4)\n",
    "    for _iteration in range(power):\n",
    "        if a in [2,13]:\n",
    "            U.swap(2,3)\n",
    "            U.swap(1,2)\n",
    "            U.swap(0,1)\n",
    "        if a in [7,8]:\n",
    "            U.swap(0,1)\n",
    "            U.swap(1,2)\n",
    "            U.swap(2,3)\n",
    "        if a in [4, 11]:\n",
    "            U.swap(1,3)\n",
    "            U.swap(0,2)\n",
    "        if a in [7,11,13]:\n",
    "            for q in range(4):\n",
    "                U.x(q)\n",
    "    U = U.to_gate()\n",
    "    U.name = f\"{a}^{power} mod 15\"\n",
    "    c_U = U.control()\n",
    "    return c_U"
   ]
  },
  {
   "cell_type": "code",
   "execution_count": 5,
   "id": "2ec6dd67",
   "metadata": {},
   "outputs": [],
   "source": [
    "def modular_exponentiation(circuit, n, m, a):\n",
    "    # Apply controlled-U gates to implement modular exponentiation\n",
    "    for x in range(n):\n",
    "        exponent = 2**x\n",
    "        circuit.append(c_amod15(a, exponent), [x] + list(range(n, n+m)))"
   ]
  },
  {
   "cell_type": "markdown",
   "id": "ce6dc75c",
   "metadata": {},
   "source": [
    "# 3. Применение обратного квантового преобразования Фурье"
   ]
  },
  {
   "cell_type": "code",
   "execution_count": 6,
   "id": "9457a1b6",
   "metadata": {},
   "outputs": [],
   "source": [
    "def apply_iqft(given_circuit, measurement_qubits):\n",
    "    # Apply inverse QFT to measurement qubits\n",
    "    given_circuit.append(QFT(n , approximation_degree = n,inverse=True), range(n))"
   ]
  },
  {
   "cell_type": "markdown",
   "id": "40460252",
   "metadata": {},
   "source": [
    "# 4. Реализация схемы"
   ]
  },
  {
   "cell_type": "code",
   "execution_count": 7,
   "id": "575392e1",
   "metadata": {},
   "outputs": [],
   "source": [
    "def shor_program(n, m, a):\n",
    "    # Create quantum circuit with n+m qubits and n classical bits\n",
    "    shor = QuantumCircuit(n+m, n)\n",
    "    \n",
    "    # Initialize qubits\n",
    "    initialize_qubits(shor, n, m)\n",
    "    shor.barrier()\n",
    "    \n",
    "    # Apply modular exponentiation function\n",
    "    modular_exponentiation(shor, n, m, a)\n",
    "    shor.barrier()\n",
    "    \n",
    "    # Apply inverse QFT\n",
    "    apply_iqft(shor, range(n))\n",
    "    \n",
    "    # Measure qubits\n",
    "    shor.measure(range(n), range(n))\n",
    "    \n",
    "    # Return circuit\n",
    "    return shor    "
   ]
  },
  {
   "cell_type": "code",
   "execution_count": 8,
   "id": "11c5f383",
   "metadata": {},
   "outputs": [
    {
     "data": {
      "text/html": [
       "<pre style=\"word-wrap: normal;white-space: pre;background: #fff0;line-height: 1.1;font-family: &quot;Courier New&quot;,Courier,monospace\">     ┌───┐ ░                                                              ░ ┌───────┐┌─┐         \n",
       "q_0: ┤ H ├─░────────■─────────────────────────────────────────────────────░─┤0      ├┤M├─────────\n",
       "     ├───┤ ░        │                                                     ░ │       │└╥┘┌─┐      \n",
       "q_1: ┤ H ├─░────────┼──────────────■──────────────────────────────────────░─┤1      ├─╫─┤M├──────\n",
       "     ├───┤ ░        │              │                                      ░ │  IQFT │ ║ └╥┘┌─┐   \n",
       "q_2: ┤ H ├─░────────┼──────────────┼──────────────■───────────────────────░─┤2      ├─╫──╫─┤M├───\n",
       "     ├───┤ ░        │              │              │                       ░ │       │ ║  ║ └╥┘┌─┐\n",
       "q_3: ┤ H ├─░────────┼──────────────┼──────────────┼──────────────■────────░─┤3      ├─╫──╫──╫─┤M├\n",
       "     └───┘ ░ ┌──────┴──────┐┌──────┴──────┐┌──────┴──────┐┌──────┴──────┐ ░ └───────┘ ║  ║  ║ └╥┘\n",
       "q_4: ──────░─┤0            ├┤0            ├┤0            ├┤0            ├─░───────────╫──╫──╫──╫─\n",
       "           ░ │             ││             ││             ││             │ ░           ║  ║  ║  ║ \n",
       "q_5: ──────░─┤1            ├┤1            ├┤1            ├┤1            ├─░───────────╫──╫──╫──╫─\n",
       "           ░ │  7^1 mod 15 ││  7^2 mod 15 ││  7^4 mod 15 ││  7^8 mod 15 │ ░           ║  ║  ║  ║ \n",
       "q_6: ──────░─┤2            ├┤2            ├┤2            ├┤2            ├─░───────────╫──╫──╫──╫─\n",
       "     ┌───┐ ░ │             ││             ││             ││             │ ░           ║  ║  ║  ║ \n",
       "q_7: ┤ X ├─░─┤3            ├┤3            ├┤3            ├┤3            ├─░───────────╫──╫──╫──╫─\n",
       "     └───┘ ░ └─────────────┘└─────────────┘└─────────────┘└─────────────┘ ░           ║  ║  ║  ║ \n",
       "c: 4/═════════════════════════════════════════════════════════════════════════════════╩══╩══╩══╩═\n",
       "                                                                                      0  1  2  3 </pre>"
      ],
      "text/plain": [
       "     ┌───┐ ░                                                              ░ ┌───────┐┌─┐         \n",
       "q_0: ┤ H ├─░────────■─────────────────────────────────────────────────────░─┤0      ├┤M├─────────\n",
       "     ├───┤ ░        │                                                     ░ │       │└╥┘┌─┐      \n",
       "q_1: ┤ H ├─░────────┼──────────────■──────────────────────────────────────░─┤1      ├─╫─┤M├──────\n",
       "     ├───┤ ░        │              │                                      ░ │  IQFT │ ║ └╥┘┌─┐   \n",
       "q_2: ┤ H ├─░────────┼──────────────┼──────────────■───────────────────────░─┤2      ├─╫──╫─┤M├───\n",
       "     ├───┤ ░        │              │              │                       ░ │       │ ║  ║ └╥┘┌─┐\n",
       "q_3: ┤ H ├─░────────┼──────────────┼──────────────┼──────────────■────────░─┤3      ├─╫──╫──╫─┤M├\n",
       "     └───┘ ░ ┌──────┴──────┐┌──────┴──────┐┌──────┴──────┐┌──────┴──────┐ ░ └───────┘ ║  ║  ║ └╥┘\n",
       "q_4: ──────░─┤0            ├┤0            ├┤0            ├┤0            ├─░───────────╫──╫──╫──╫─\n",
       "           ░ │             ││             ││             ││             │ ░           ║  ║  ║  ║ \n",
       "q_5: ──────░─┤1            ├┤1            ├┤1            ├┤1            ├─░───────────╫──╫──╫──╫─\n",
       "           ░ │  7^1 mod 15 ││  7^2 mod 15 ││  7^4 mod 15 ││  7^8 mod 15 │ ░           ║  ║  ║  ║ \n",
       "q_6: ──────░─┤2            ├┤2            ├┤2            ├┤2            ├─░───────────╫──╫──╫──╫─\n",
       "     ┌───┐ ░ │             ││             ││             ││             │ ░           ║  ║  ║  ║ \n",
       "q_7: ┤ X ├─░─┤3            ├┤3            ├┤3            ├┤3            ├─░───────────╫──╫──╫──╫─\n",
       "     └───┘ ░ └─────────────┘└─────────────┘└─────────────┘└─────────────┘ ░           ║  ║  ║  ║ \n",
       "c: 4/═════════════════════════════════════════════════════════════════════════════════╩══╩══╩══╩═\n",
       "                                                                                      0  1  2  3 "
      ]
     },
     "execution_count": 8,
     "metadata": {},
     "output_type": "execute_result"
    }
   ],
   "source": [
    "n = 4; m = 4; a = 7\n",
    "circuit = shor_program(n, m, a)\n",
    "circuit.draw(fold=-1)"
   ]
  },
  {
   "cell_type": "markdown",
   "id": "8f09dae1",
   "metadata": {},
   "source": [
    "# 5. Запуск программы на квантовом симуляторе"
   ]
  },
  {
   "cell_type": "code",
   "execution_count": 9,
   "id": "c4309abe",
   "metadata": {},
   "outputs": [
    {
     "data": {
      "image/png": "[encoded data removed]",
      "text/plain": [
       "<Figure size 640x480 with 1 Axes>"
      ]
     },
     "metadata": {},
     "output_type": "display_data"
    }
   ],
   "source": [
    "# Run circuit on simulator\n",
    "simulator = Aer.get_backend('qasm_simulator')\n",
    "counts = execute(circuit, backend=simulator, shots=4096).result().get_counts(circuit)\n",
    "total_counts = sum(counts.values())\n",
    "probabilities = [value / total_counts for value in counts.values()]\n",
    "states = list(counts.keys())\n",
    "\n",
    "# Plot results\n",
    "plt.bar(states, probabilities)\n",
    "plt.xlabel('Состояния', fontname='Times New Roman', fontsize=14)\n",
    "plt.ylabel('Вероятности', fontname='Times New Roman', fontsize=14)\n",
    "plt.title('Распределение вероятностей', fontname='Times New Roman', fontsize=16)\n",
    "for i, v in enumerate(probabilities):\n",
    "    plt.text(i, v, str(round(v, 3)), ha='center', va='bottom', fontname='Times New Roman', fontsize=12)\n",
    "plt.savefig('my_plot.png', dpi=300, bbox_inches='tight')\n",
    "plt.show()"
   ]
  },
  {
   "cell_type": "markdown",
   "id": "04277aab",
   "metadata": {},
   "source": [
    "# 6. Классическая обработка для получения множителей числа 15"
   ]
  },
  {
   "cell_type": "code",
   "execution_count": 10,
   "id": "ed69ecc3",
   "metadata": {},
   "outputs": [],
   "source": [
    "# Find most common measurement\n",
    "measured_value = max(counts, key=counts.get)"
   ]
  },
  {
   "cell_type": "code",
   "execution_count": 11,
   "id": "b72a55fe",
   "metadata": {},
   "outputs": [
    {
     "name": "stdout",
     "output_type": "stream",
     "text": [
      "Factors of 15 are (5, 3)\n"
     ]
    }
   ],
   "source": [
    "# Convert measured value to decimal\n",
    "measured_value_decimal = int(measured_value, 2)\n",
    "\n",
    "# Find factors of 15 using measured value\n",
    "if measured_value_decimal % 2 != 0:\n",
    "    print(\"Failed. Measured value is not an even number\")\n",
    "else:\n",
    "    x = int((a ** (measured_value_decimal // 2)) % 15)\n",
    "    if (x + 1) % 15 == 0:\n",
    "        print(\"Failed. x + 1 = 0 (mod N) where x = a^(r/2) (mod N)\")\n",
    "    else:\n",
    "        guesses = gcd(x + 1, 15), gcd(x - 1, 15)\n",
    "        print(\"Factors of 15 are\", guesses)    "
   ]
  }
 ],
 "metadata": {
  "kernelspec": {
   "display_name": "Python 3 (ipykernel)",
   "language": "python",
   "name": "python3"
  },
  "language_info": {
   "codemirror_mode": {
    "name": "ipython",
    "version": 3
   },
   "file_extension": ".py",
   "mimetype": "text/x-python",
   "name": "python",
   "nbconvert_exporter": "python",
   "pygments_lexer": "ipython3",
   "version": "3.10.9"
  }
 },
 "nbformat": 4,
 "nbformat_minor": 5
}
